{
  "nbformat": 4,
  "nbformat_minor": 0,
  "metadata": {
    "accelerator": "GPU",
    "colab": {
      "name": "hackathon_team05.ipynb",
      "provenance": [],
      "collapsed_sections": [
        "1AosAX9DXOlc"
      ],
      "include_colab_link": true
    },
    "kernelspec": {
      "display_name": "Python 3",
      "language": "python",
      "name": "python3"
    },
    "language_info": {
      "codemirror_mode": {
        "name": "ipython",
        "version": 3
      },
      "file_extension": ".py",
      "mimetype": "text/x-python",
      "name": "python",
      "nbconvert_exporter": "python",
      "pygments_lexer": "ipython3",
      "version": "3.7.4"
    }
  },
  "cells": [
    {
      "cell_type": "markdown",
      "metadata": {
        "id": "view-in-github",
        "colab_type": "text"
      },
      "source": [
        "<a href=\"https://colab.research.google.com/github/heymango/2020_cau_oss_hackathon/blob/master/hackathon_team05.ipynb\" target=\"_parent\"><img src=\"https://colab.research.google.com/assets/colab-badge.svg\" alt=\"Open In Colab\"/></a>"
      ]
    },
    {
      "cell_type": "markdown",
      "metadata": {
        "colab_type": "text",
        "id": "1AosAX9DXOlc"
      },
      "source": [
        "# **0. 해커톤 진행 주의사항**\n",
        "\n",
        "**1)  개발 관련 주의사항**\n",
        "*   [1. 초기 환경 설정]은 절대 수정하지 말 것\n",
        "*   모든 구현은 [2. 데이터 전처리] 및 [3.모델 생성]에서만 진행\n",
        "*   [4. 모델 저장]에서 team_name 변수 변경 (예.`team_name = 'team01'`)\n",
        " *    트레이닝 중간에 checkpoint를 활용하여 모델을 저장한 경우에도 파일 이름 양식 통일 필수\n",
        "*   Colab 사용중 실수로 데이터 손실이 발생할 수도 있으니 중간 결과값을 github에 업로드 \n",
        " *    \"런타임->모든 런타임 재설정\"은 절대 누르지 말 것 (저장한 모델 데이터가 모두 삭제됨)\n",
        "*   효율적인 구현 및 테스팅을 위해 GPU 가속 기능 활성화\n",
        " *    \"런타임 -> 런타임 유형변경 -> 하드웨어 가속기 -> GPU 설정\"\n",
        "*   주석을 최대한 자세히 작성\n",
        "*   Keras API 관련하여 [Keras Documentation](https://keras.io/) 참조\n",
        "\n",
        "**2) 제출 관련 주의사항**\n",
        "*  제출물\n",
        " *  소스코드 (hackathon_teamXX.ipynb)\n",
        " *  컴파일된 모델 파일 (model_entire_teamXX.h5)\n",
        " *  모델 발표 자료 \n",
        "* 제출 기한: **오후 5시 (단, 발표자료는 11시)**\n",
        "* 제출 방법: [GitHub README](https://github.com/cauosshackathonta/2020_cau_oss_hackathon/) 참조\n",
        "\n",
        " \n",
        "**3) 평가 관련 주의사항**\n",
        "*  모델 성능 = 테스트 데이터 셋 분류 정확도\n",
        " *  model.evaluate(x_test, y_test)\n",
        "*  제출된 모델들의 테스트 데이터 셋 분류 정확도를 기준으로 수상작 결정\n",
        "*  수상 후보들에 대해서는 소스코드를 기반으로 모델 재검증 \n",
        " \n",
        "**4) 수상 실격 사유**\n",
        "*  유사한 소스코드 or 알고리즘이 적발될 경우\n",
        "*  소스코드와 제출된 모델이 상이한 경우\n",
        "*  개발 관련 주의사항을 지키지 않은 경우\n",
        " *  예: [초기 환경 설정]을 수정한 경우\n",
        "*  데이터 셋을 변조한 경우\n",
        " *  예. 테스트 데이터 셋을 트레이닝 데이터 셋에 포함하여 모델 생성 \n",
        "*  주석이 소스코드와 맞지 않거나 미비할 경우\n",
        "\n",
        "\n",
        "\n",
        "\n"
      ]
    },
    {
      "cell_type": "markdown",
      "metadata": {
        "colab_type": "text",
        "id": "67lwEXhUqys1"
      },
      "source": [
        "# **1. 초기 환경 설정**\n",
        "\n"
      ]
    },
    {
      "cell_type": "code",
      "metadata": {
        "colab_type": "code",
        "id": "Ms5PBBJ1qSC6",
        "colab": {}
      },
      "source": [
        "from __future__ import absolute_import, division, print_function, unicode_literals, unicode_literals\n",
        "\n",
        "# tensorflow와 tf.keras 및 관련 라이브러리 임포트\n",
        "import tensorflow as tf\n",
        "from tensorflow import keras\n",
        "from keras.utils import np_utils\n",
        "\n",
        "import numpy as np\n",
        "\n",
        "# 데이터셋 다운로드\n",
        "check = !if [ -d 'dataset/' ]; then echo \"1\" ; else echo \"0\"; fi\n",
        "if (check[0] is '0' ):\n",
        "  !mkdir dataset\n",
        "  !wget 'https://www.itl.nist.gov/iaui/vip/cs_links/EMNIST/matlab.zip'\n",
        "  !unzip matlab.zip -d /content/dataset\n",
        "\n",
        "# 데이터셋 로드\n",
        "from scipy import io as spio\n",
        "emnist = spio.loadmat(\"/content/dataset/matlab/emnist-balanced.mat\")\n",
        "\n",
        "x_train = emnist[\"dataset\"][0][0][0][0][0][0]\n",
        "y_train = emnist[\"dataset\"][0][0][0][0][0][1]\n",
        "\n",
        "x_test = emnist[\"dataset\"][0][0][1][0][0][0]\n",
        "y_test = emnist[\"dataset\"][0][0][1][0][0][1]\n",
        "\n",
        "# # 분류를 위해 클래스 벡터를 바이너리 매트릭스로 변환\n",
        "y_train = np_utils.to_categorical(y_train)\n",
        "y_test = np_utils.to_categorical(y_test)\n",
        "\n",
        "# 데이터 28x28 이미지화\n",
        "x_train = x_train.reshape(x_train.shape[0], 28, 28, 1).astype('float32')\n",
        "x_test = x_test.reshape(x_test.shape[0], 28, 28, 1).astype('float32')\n",
        "\n",
        "# 총 클래스 개수\n",
        "num_classes = y_test.shape[1]\n",
        "input_shape = x_test.shape[1:]"
      ],
      "execution_count": 44,
      "outputs": []
    },
    {
      "cell_type": "markdown",
      "metadata": {
        "colab_type": "text",
        "id": "A-YjppJpXBO9"
      },
      "source": [
        "# **2. 데이터 전처리**\n",
        "\n"
      ]
    },
    {
      "cell_type": "code",
      "metadata": {
        "colab_type": "code",
        "id": "QZ9KWTBP6AI1",
        "colab": {}
      },
      "source": [
        "# 데이터 전처리 (예: normalization)\n",
        "x_train_after = np.round_(x_train / 255.0, 1)\n",
        "x_test_after = np.round_(x_test / 255.0, 1)"
      ],
      "execution_count": 165,
      "outputs": []
    },
    {
      "cell_type": "markdown",
      "metadata": {
        "colab_type": "text",
        "id": "v-lo-O1yiFpY"
      },
      "source": [
        "# **3. 모델 생성**"
      ]
    },
    {
      "cell_type": "code",
      "metadata": {
        "colab_type": "code",
        "id": "DZP4eRmRqgRp",
        "colab": {
          "base_uri": "https://localhost:8080/",
          "height": 580
        },
        "outputId": "e85738bb-7baa-4ee6-b004-013dc8bc476b"
      },
      "source": [
        "from tensorflow.python.keras.layers import Dense, Conv2D, Flatten, MaxPooling2D, AveragePooling2D\n",
        "from tensorflow.python.keras.preprocessing.image import array_to_img\n",
        "from tensorflow.python.keras.models import Sequential, load_model\n",
        "from tensorflow.python.keras.optimizers import Adam\n",
        "from tensorflow.python.keras.callbacks import TensorBoard, ModelCheckpoint\n",
        "from keras.layers import Dense, Dropout, Flatten, Conv2D, MaxPool2D\n",
        "import matplotlib.pyplot as plt\n",
        "from keras.optimizers import RMSprop\n",
        "from keras.preprocessing.image import ImageDataGenerator\n",
        "from keras.callbacks import ReduceLROnPlateau\n",
        "\n",
        "# 순차 모델 생성 (가장 기본구조)\n",
        "model = keras.Sequential()\n",
        "\n",
        "model.add(keras.layers.Conv2D(32, kernel_size=(3, 3), activation='relu', padding='same', input_shape=(28, 28, 1)))\n",
        "model.add(keras.layers.Conv2D(32, kernel_size=(3, 3), activation='relu', padding='same'))\n",
        "model.add(keras.layers.MaxPooling2D())\n",
        "model.add(keras.layers.Dropout(0.25))\n",
        "\n",
        "\n",
        "model.add(keras.layers.Conv2D(64, kernel_size=(3, 3), activation='relu', padding='same'))\n",
        "model.add(keras.layers.Conv2D(64, kernel_size=(3, 3), activation='relu', padding='same'))\n",
        "model.add(keras.layers.MaxPooling2D())\n",
        "model.add(keras.layers.Dropout(0.25))\n",
        "\n",
        "# Flatten layer: 28 x 28 x 1 image를 784개의 1D vector input으로 변환\n",
        "model.add(keras.layers.Flatten())\n",
        "\n",
        "\n",
        "\n",
        "model.add(keras.layers.Dense(1024, activation=tf.nn.relu))\n",
        "\n",
        "# Output layer: fully-connected layer \n",
        "# (# of inputs = 64, # of outputs = 47, actication fuction = softmax)\n",
        "\n",
        "model.add(keras.layers.Dropout(0.5))\n",
        "\n",
        "model.add(keras.layers.Dense(47, activation=tf.nn.sigmoid))\n",
        "\n",
        "# 모델 컴파일\n",
        "# optimizer: 모델을 업데이트 하는 방식\n",
        "# loss: 모델의 정확도를 판단하는 방식\n",
        "# metrics: 트레이닝 및 테스팅 성능 모니터링을 위한 평가지표\n",
        "sgd = keras.optimizers.SGD(lr=0.01, decay=1e-6, momentum=0.9, nesterov=True)\n",
        "model.compile(loss='categorical_crossentropy', optimizer=sgd, metrics=['accuracy'])\n",
        "\n",
        "model.summary()\n"
      ],
      "execution_count": 168,
      "outputs": [
        {
          "output_type": "stream",
          "text": [
            "Model: \"sequential_44\"\n",
            "_________________________________________________________________\n",
            "Layer (type)                 Output Shape              Param #   \n",
            "=================================================================\n",
            "conv2d_87 (Conv2D)           (None, 28, 28, 32)        320       \n",
            "_________________________________________________________________\n",
            "conv2d_88 (Conv2D)           (None, 28, 28, 32)        9248      \n",
            "_________________________________________________________________\n",
            "max_pooling2d_74 (MaxPooling (None, 14, 14, 32)        0         \n",
            "_________________________________________________________________\n",
            "dropout_21 (Dropout)         (None, 14, 14, 32)        0         \n",
            "_________________________________________________________________\n",
            "conv2d_89 (Conv2D)           (None, 14, 14, 64)        18496     \n",
            "_________________________________________________________________\n",
            "conv2d_90 (Conv2D)           (None, 14, 14, 64)        36928     \n",
            "_________________________________________________________________\n",
            "max_pooling2d_75 (MaxPooling (None, 7, 7, 64)          0         \n",
            "_________________________________________________________________\n",
            "dropout_22 (Dropout)         (None, 7, 7, 64)          0         \n",
            "_________________________________________________________________\n",
            "flatten_42 (Flatten)         (None, 3136)              0         \n",
            "_________________________________________________________________\n",
            "dense_139 (Dense)            (None, 1024)              3212288   \n",
            "_________________________________________________________________\n",
            "dropout_23 (Dropout)         (None, 1024)              0         \n",
            "_________________________________________________________________\n",
            "dense_140 (Dense)            (None, 47)                48175     \n",
            "=================================================================\n",
            "Total params: 3,325,455\n",
            "Trainable params: 3,325,455\n",
            "Non-trainable params: 0\n",
            "_________________________________________________________________\n"
          ],
          "name": "stdout"
        }
      ]
    },
    {
      "cell_type": "code",
      "metadata": {
        "id": "cxRJtfs6D88E",
        "colab_type": "code",
        "colab": {}
      },
      "source": [
        "# use Adam optimizer \n",
        "# initial learning rate : 1e-4, initial weight decay : 1e-6 \n",
        "optimizer = keras.optimizers.Adam(lr=1e-4, decay=1e-6)\n",
        "\n",
        "# model compile\n",
        "model.compile(optimizer = optimizer , loss = \"categorical_crossentropy\", metrics=[\"accuracy\"])\n",
        "\n",
        "# learning rate reduction \n",
        "# adjust learning rate dynamically to prevent local minima\n",
        "learning_rate_reduction = ReduceLROnPlateau(monitor='val_accuracy', \n",
        "                                            patience=3, \n",
        "                                            verbose=1, \n",
        "                                            factor=0.5, \n",
        "                                            min_lr=0.00001)"
      ],
      "execution_count": 169,
      "outputs": []
    },
    {
      "cell_type": "code",
      "metadata": {
        "id": "wjuQBSRlEA8e",
        "colab_type": "code",
        "colab": {}
      },
      "source": [
        "'''\n",
        "we  use the advantage of deep learning \"data reusable\".\n",
        "model can be made more strong and robust by using data aumentation.\n",
        "'''\n",
        "\n",
        "datagen = ImageDataGenerator(\n",
        "        featurewise_center=False,  # set input mean to 0 over the dataset\n",
        "        samplewise_center=False,  # set each sample mean to 0\n",
        "        featurewise_std_normalization=False,  # divide inputs by std of the dataset\n",
        "        samplewise_std_normalization=False,  # divide each input by its std\n",
        "        zca_whitening=False,  # apply ZCA whitening\n",
        "        rotation_range=10,  # randomly rotate images in the range (degrees, 0 to 180)\n",
        "        zoom_range = 0.1, # Randomly zoom image \n",
        "        width_shift_range=0.1,  # randomly shift images horizontally (fraction of total width)\n",
        "        height_shift_range=0.1,  # randomly shift images vertically (fraction of total height)\n",
        "        horizontal_flip=False,  # randomly flip images\n",
        "        vertical_flip=False)  # randomly flip images\n",
        "\n",
        "\n",
        "datagen.fit(x_train_after)"
      ],
      "execution_count": 170,
      "outputs": []
    },
    {
      "cell_type": "code",
      "metadata": {
        "id": "06eAPVL7EF70",
        "colab_type": "code",
        "colab": {
          "base_uri": "https://localhost:8080/",
          "height": 1000
        },
        "outputId": "024b1744-2102-447a-dc92-ae5d4f52b026"
      },
      "source": [
        "cp_callback = tf.keras.callbacks.ModelCheckpoint(filepath='/content/checkpoint_entire_best.h5', monitor='val_accuracy', verbose=1, save_weight_only=False, save_best_only=True, mode='auto')\n",
        "\n",
        "history = model.fit(datagen.flow(x_train_after,y_train, batch_size=64),\n",
        "                              epochs = 50, validation_data = (x_test_after, y_test),\n",
        "                              verbose = 2, steps_per_epoch=x_train_after.shape[0] // 64\n",
        "                              ,callbacks=[learning_rate_reduction,cp_callback])"
      ],
      "execution_count": 172,
      "outputs": [
        {
          "output_type": "stream",
          "text": [
            "Epoch 1/50\n",
            "\n",
            "Epoch 00001: val_accuracy improved from -inf to 0.85202, saving model to /content/checkpoint_entire_best.h5\n",
            "1762/1762 - 30s - loss: 0.8479 - accuracy: 0.7311 - val_loss: 0.4491 - val_accuracy: 0.8520\n",
            "Epoch 2/50\n",
            "\n",
            "Epoch 00002: val_accuracy improved from 0.85202 to 0.86479, saving model to /content/checkpoint_entire_best.h5\n",
            "1762/1762 - 30s - loss: 0.6670 - accuracy: 0.7799 - val_loss: 0.3963 - val_accuracy: 0.8648\n",
            "Epoch 3/50\n",
            "\n",
            "Epoch 00003: val_accuracy improved from 0.86479 to 0.86920, saving model to /content/checkpoint_entire_best.h5\n",
            "1762/1762 - 31s - loss: 0.5791 - accuracy: 0.8059 - val_loss: 0.3749 - val_accuracy: 0.8692\n",
            "Epoch 4/50\n",
            "\n",
            "Epoch 00004: val_accuracy improved from 0.86920 to 0.87830, saving model to /content/checkpoint_entire_best.h5\n",
            "1762/1762 - 30s - loss: 0.5236 - accuracy: 0.8212 - val_loss: 0.3515 - val_accuracy: 0.8783\n",
            "Epoch 5/50\n",
            "\n",
            "Epoch 00005: val_accuracy did not improve from 0.87830\n",
            "1762/1762 - 30s - loss: 0.4840 - accuracy: 0.8334 - val_loss: 0.3437 - val_accuracy: 0.8773\n",
            "Epoch 6/50\n",
            "\n",
            "Epoch 00006: val_accuracy improved from 0.87830 to 0.88144, saving model to /content/checkpoint_entire_best.h5\n",
            "1762/1762 - 30s - loss: 0.4580 - accuracy: 0.8410 - val_loss: 0.3326 - val_accuracy: 0.8814\n",
            "Epoch 7/50\n",
            "\n",
            "Epoch 00007: val_accuracy improved from 0.88144 to 0.88367, saving model to /content/checkpoint_entire_best.h5\n",
            "1762/1762 - 30s - loss: 0.4405 - accuracy: 0.8458 - val_loss: 0.3248 - val_accuracy: 0.8837\n",
            "Epoch 8/50\n",
            "\n",
            "Epoch 00008: val_accuracy improved from 0.88367 to 0.88777, saving model to /content/checkpoint_entire_best.h5\n",
            "1762/1762 - 30s - loss: 0.4211 - accuracy: 0.8502 - val_loss: 0.3152 - val_accuracy: 0.8878\n",
            "Epoch 9/50\n",
            "\n",
            "Epoch 00009: val_accuracy improved from 0.88777 to 0.88846, saving model to /content/checkpoint_entire_best.h5\n",
            "1762/1762 - 31s - loss: 0.4079 - accuracy: 0.8550 - val_loss: 0.3117 - val_accuracy: 0.8885\n",
            "Epoch 10/50\n",
            "\n",
            "Epoch 00010: val_accuracy improved from 0.88846 to 0.88926, saving model to /content/checkpoint_entire_best.h5\n",
            "1762/1762 - 30s - loss: 0.3962 - accuracy: 0.8586 - val_loss: 0.3087 - val_accuracy: 0.8893\n",
            "Epoch 11/50\n",
            "\n",
            "Epoch 00011: val_accuracy improved from 0.88926 to 0.88957, saving model to /content/checkpoint_entire_best.h5\n",
            "1762/1762 - 30s - loss: 0.3882 - accuracy: 0.8606 - val_loss: 0.3031 - val_accuracy: 0.8896\n",
            "Epoch 12/50\n",
            "\n",
            "Epoch 00012: val_accuracy improved from 0.88957 to 0.89096, saving model to /content/checkpoint_entire_best.h5\n",
            "1762/1762 - 31s - loss: 0.3790 - accuracy: 0.8628 - val_loss: 0.3036 - val_accuracy: 0.8910\n",
            "Epoch 13/50\n",
            "\n",
            "Epoch 00013: val_accuracy did not improve from 0.89096\n",
            "1762/1762 - 31s - loss: 0.3719 - accuracy: 0.8657 - val_loss: 0.2994 - val_accuracy: 0.8902\n",
            "Epoch 14/50\n",
            "\n",
            "Epoch 00014: val_accuracy improved from 0.89096 to 0.89362, saving model to /content/checkpoint_entire_best.h5\n",
            "1762/1762 - 31s - loss: 0.3657 - accuracy: 0.8665 - val_loss: 0.3003 - val_accuracy: 0.8936\n",
            "Epoch 15/50\n",
            "\n",
            "Epoch 00015: val_accuracy improved from 0.89362 to 0.89580, saving model to /content/checkpoint_entire_best.h5\n",
            "1762/1762 - 31s - loss: 0.3593 - accuracy: 0.8696 - val_loss: 0.2923 - val_accuracy: 0.8958\n",
            "Epoch 16/50\n",
            "\n",
            "Epoch 00016: val_accuracy did not improve from 0.89580\n",
            "1762/1762 - 30s - loss: 0.3520 - accuracy: 0.8721 - val_loss: 0.2934 - val_accuracy: 0.8944\n",
            "Epoch 17/50\n",
            "\n",
            "Epoch 00017: val_accuracy did not improve from 0.89580\n",
            "1762/1762 - 30s - loss: 0.3487 - accuracy: 0.8728 - val_loss: 0.2914 - val_accuracy: 0.8953\n",
            "Epoch 18/50\n",
            "\n",
            "Epoch 00018: val_accuracy improved from 0.89580 to 0.89617, saving model to /content/checkpoint_entire_best.h5\n",
            "1762/1762 - 30s - loss: 0.3427 - accuracy: 0.8739 - val_loss: 0.2906 - val_accuracy: 0.8962\n",
            "Epoch 19/50\n",
            "\n",
            "Epoch 00019: val_accuracy did not improve from 0.89617\n",
            "1762/1762 - 31s - loss: 0.3400 - accuracy: 0.8751 - val_loss: 0.2893 - val_accuracy: 0.8954\n",
            "Epoch 20/50\n",
            "\n",
            "Epoch 00020: val_accuracy did not improve from 0.89617\n",
            "1762/1762 - 30s - loss: 0.3356 - accuracy: 0.8763 - val_loss: 0.2908 - val_accuracy: 0.8940\n",
            "Epoch 21/50\n",
            "\n",
            "Epoch 00021: val_accuracy improved from 0.89617 to 0.89745, saving model to /content/checkpoint_entire_best.h5\n",
            "1762/1762 - 30s - loss: 0.3311 - accuracy: 0.8780 - val_loss: 0.2849 - val_accuracy: 0.8974\n",
            "Epoch 22/50\n",
            "\n",
            "Epoch 00022: val_accuracy improved from 0.89745 to 0.89819, saving model to /content/checkpoint_entire_best.h5\n",
            "1762/1762 - 30s - loss: 0.3258 - accuracy: 0.8797 - val_loss: 0.2840 - val_accuracy: 0.8982\n",
            "Epoch 23/50\n",
            "\n",
            "Epoch 00023: val_accuracy did not improve from 0.89819\n",
            "1762/1762 - 30s - loss: 0.3271 - accuracy: 0.8804 - val_loss: 0.2850 - val_accuracy: 0.8961\n",
            "Epoch 24/50\n",
            "\n",
            "Epoch 00024: val_accuracy did not improve from 0.89819\n",
            "1762/1762 - 30s - loss: 0.3209 - accuracy: 0.8810 - val_loss: 0.2833 - val_accuracy: 0.8979\n",
            "Epoch 25/50\n",
            "\n",
            "Epoch 00025: val_accuracy improved from 0.89819 to 0.89888, saving model to /content/checkpoint_entire_best.h5\n",
            "1762/1762 - 30s - loss: 0.3202 - accuracy: 0.8821 - val_loss: 0.2816 - val_accuracy: 0.8989\n",
            "Epoch 26/50\n",
            "\n",
            "Epoch 00026: val_accuracy did not improve from 0.89888\n",
            "1762/1762 - 30s - loss: 0.3149 - accuracy: 0.8813 - val_loss: 0.2793 - val_accuracy: 0.8980\n",
            "Epoch 27/50\n",
            "\n",
            "Epoch 00027: val_accuracy did not improve from 0.89888\n",
            "1762/1762 - 30s - loss: 0.3117 - accuracy: 0.8835 - val_loss: 0.2790 - val_accuracy: 0.8982\n",
            "Epoch 28/50\n",
            "\n",
            "Epoch 00028: val_accuracy improved from 0.89888 to 0.89957, saving model to /content/checkpoint_entire_best.h5\n",
            "1762/1762 - 30s - loss: 0.3099 - accuracy: 0.8831 - val_loss: 0.2795 - val_accuracy: 0.8996\n",
            "Epoch 29/50\n",
            "\n",
            "Epoch 00029: val_accuracy did not improve from 0.89957\n",
            "1762/1762 - 30s - loss: 0.3079 - accuracy: 0.8847 - val_loss: 0.2812 - val_accuracy: 0.8990\n",
            "Epoch 30/50\n",
            "\n",
            "Epoch 00030: val_accuracy did not improve from 0.89957\n",
            "1762/1762 - 30s - loss: 0.3047 - accuracy: 0.8857 - val_loss: 0.2779 - val_accuracy: 0.8982\n",
            "Epoch 31/50\n",
            "\n",
            "Epoch 00031: val_accuracy improved from 0.89957 to 0.90085, saving model to /content/checkpoint_entire_best.h5\n",
            "1762/1762 - 30s - loss: 0.3042 - accuracy: 0.8855 - val_loss: 0.2750 - val_accuracy: 0.9009\n",
            "Epoch 32/50\n",
            "\n",
            "Epoch 00032: val_accuracy did not improve from 0.90085\n",
            "1762/1762 - 30s - loss: 0.3019 - accuracy: 0.8858 - val_loss: 0.2756 - val_accuracy: 0.8998\n",
            "Epoch 33/50\n",
            "\n",
            "Epoch 00033: val_accuracy did not improve from 0.90085\n",
            "1762/1762 - 30s - loss: 0.3008 - accuracy: 0.8861 - val_loss: 0.2755 - val_accuracy: 0.9005\n",
            "Epoch 34/50\n",
            "\n",
            "Epoch 00034: val_accuracy improved from 0.90085 to 0.90218, saving model to /content/checkpoint_entire_best.h5\n",
            "1762/1762 - 30s - loss: 0.2983 - accuracy: 0.8874 - val_loss: 0.2759 - val_accuracy: 0.9022\n",
            "Epoch 35/50\n",
            "\n",
            "Epoch 00035: val_accuracy did not improve from 0.90218\n",
            "1762/1762 - 30s - loss: 0.2953 - accuracy: 0.8877 - val_loss: 0.2764 - val_accuracy: 0.9004\n",
            "Epoch 36/50\n",
            "\n",
            "Epoch 00036: val_accuracy did not improve from 0.90218\n",
            "1762/1762 - 30s - loss: 0.2960 - accuracy: 0.8885 - val_loss: 0.2751 - val_accuracy: 0.9001\n",
            "Epoch 37/50\n",
            "\n",
            "Epoch 00037: ReduceLROnPlateau reducing learning rate to 4.999999873689376e-05.\n",
            "\n",
            "Epoch 00037: val_accuracy did not improve from 0.90218\n",
            "1762/1762 - 30s - loss: 0.2951 - accuracy: 0.8877 - val_loss: 0.2738 - val_accuracy: 0.9022\n",
            "Epoch 38/50\n",
            "\n",
            "Epoch 00038: val_accuracy improved from 0.90218 to 0.90223, saving model to /content/checkpoint_entire_best.h5\n",
            "1762/1762 - 30s - loss: 0.2847 - accuracy: 0.8918 - val_loss: 0.2719 - val_accuracy: 0.9022\n",
            "Epoch 39/50\n",
            "\n",
            "Epoch 00039: val_accuracy improved from 0.90223 to 0.90287, saving model to /content/checkpoint_entire_best.h5\n",
            "1762/1762 - 31s - loss: 0.2816 - accuracy: 0.8933 - val_loss: 0.2702 - val_accuracy: 0.9029\n",
            "Epoch 40/50\n",
            "\n",
            "Epoch 00040: val_accuracy improved from 0.90287 to 0.90404, saving model to /content/checkpoint_entire_best.h5\n",
            "1762/1762 - 30s - loss: 0.2797 - accuracy: 0.8933 - val_loss: 0.2683 - val_accuracy: 0.9040\n",
            "Epoch 41/50\n",
            "\n",
            "Epoch 00041: val_accuracy did not improve from 0.90404\n",
            "1762/1762 - 30s - loss: 0.2770 - accuracy: 0.8936 - val_loss: 0.2710 - val_accuracy: 0.9029\n",
            "Epoch 42/50\n",
            "\n",
            "Epoch 00042: val_accuracy did not improve from 0.90404\n",
            "1762/1762 - 30s - loss: 0.2746 - accuracy: 0.8941 - val_loss: 0.2736 - val_accuracy: 0.9026\n",
            "Epoch 43/50\n",
            "\n",
            "Epoch 00043: ReduceLROnPlateau reducing learning rate to 2.499999936844688e-05.\n",
            "\n",
            "Epoch 00043: val_accuracy did not improve from 0.90404\n",
            "1762/1762 - 30s - loss: 0.2757 - accuracy: 0.8943 - val_loss: 0.2718 - val_accuracy: 0.9032\n",
            "Epoch 44/50\n",
            "\n",
            "Epoch 00044: val_accuracy did not improve from 0.90404\n",
            "1762/1762 - 32s - loss: 0.2723 - accuracy: 0.8949 - val_loss: 0.2680 - val_accuracy: 0.9040\n",
            "Epoch 45/50\n",
            "\n",
            "Epoch 00045: val_accuracy did not improve from 0.90404\n",
            "1762/1762 - 32s - loss: 0.2707 - accuracy: 0.8968 - val_loss: 0.2680 - val_accuracy: 0.9034\n",
            "Epoch 46/50\n",
            "\n",
            "Epoch 00046: val_accuracy improved from 0.90404 to 0.90473, saving model to /content/checkpoint_entire_best.h5\n",
            "1762/1762 - 31s - loss: 0.2699 - accuracy: 0.8971 - val_loss: 0.2697 - val_accuracy: 0.9047\n",
            "Epoch 47/50\n",
            "\n",
            "Epoch 00047: val_accuracy did not improve from 0.90473\n",
            "1762/1762 - 31s - loss: 0.2706 - accuracy: 0.8961 - val_loss: 0.2692 - val_accuracy: 0.9037\n",
            "Epoch 48/50\n",
            "\n",
            "Epoch 00048: val_accuracy did not improve from 0.90473\n",
            "1762/1762 - 31s - loss: 0.2701 - accuracy: 0.8962 - val_loss: 0.2691 - val_accuracy: 0.9033\n",
            "Epoch 49/50\n",
            "\n",
            "Epoch 00049: ReduceLROnPlateau reducing learning rate to 1.249999968422344e-05.\n",
            "\n",
            "Epoch 00049: val_accuracy did not improve from 0.90473\n",
            "1762/1762 - 31s - loss: 0.2673 - accuracy: 0.8980 - val_loss: 0.2701 - val_accuracy: 0.9041\n",
            "Epoch 50/50\n",
            "\n",
            "Epoch 00050: val_accuracy improved from 0.90473 to 0.90495, saving model to /content/checkpoint_entire_best.h5\n",
            "1762/1762 - 31s - loss: 0.2655 - accuracy: 0.8971 - val_loss: 0.2679 - val_accuracy: 0.9049\n"
          ],
          "name": "stdout"
        }
      ]
    },
    {
      "cell_type": "code",
      "metadata": {
        "id": "TpStef2O3kj1",
        "colab_type": "code",
        "colab": {
          "base_uri": "https://localhost:8080/",
          "height": 573
        },
        "outputId": "834aaa80-1726-4a7e-d200-ec542755611a"
      },
      "source": [
        "\n",
        "import matplotlib.pyplot as plt\n",
        "\n",
        "plt.plot(result.history['accuracy'])\n",
        "plt.plot(result.history['val_accuracy'])\n",
        "plt.title('model accuracy')\n",
        "plt.ylabel('accuracy')\n",
        "plt.xlabel('epoch')\n",
        "plt.legend(['train', 'test'], loc='upper left')\n",
        "plt.show()\n",
        "# summarize history for loss\n",
        "plt.plot(result.history['loss'])\n",
        "plt.plot(result.history['val_loss'])\n",
        "plt.title('model loss')\n",
        "plt.ylabel('loss')\n",
        "plt.xlabel('epoch')\n",
        "plt.legend(['train', 'test'], loc='upper left')\n",
        "plt.show()"
      ],
      "execution_count": 173,
      "outputs": [
        {
          "output_type": "display_data",
          "data": {
            "image/png": "[encoded data removed]",
            "text/plain": [
              "<Figure size 432x288 with 1 Axes>"
            ]
          },
          "metadata": {
            "tags": [],
            "needs_background": "light"
          }
        },
        {
          "output_type": "display_data",
          "data": {
            "image/png": "[encoded data removed]",
            "text/plain": [
              "<Figure size 432x288 with 1 Axes>"
            ]
          },
          "metadata": {
            "tags": [],
            "needs_background": "light"
          }
        }
      ]
    },
    {
      "cell_type": "markdown",
      "metadata": {
        "colab_type": "text",
        "id": "QR9WUYXxqtfR"
      },
      "source": [
        "# **4. 모델 저장**"
      ]
    },
    {
      "cell_type": "code",
      "metadata": {
        "colab_type": "code",
        "id": "Wi9yznz4qvzK",
        "colab": {}
      },
      "source": [
        "save_path = '/content/'\n",
        "team_name = 'team05'\n",
        "\n",
        "# 트레이닝된 전체 모델을 저장합니다.\n",
        "model = keras.models.load_model('/content/checkpoint_entire_best.h5')\n",
        "model.save(save_path +  'model_entire_'+ team_name + '.h5')"
      ],
      "execution_count": 174,
      "outputs": []
    },
    {
      "cell_type": "markdown",
      "metadata": {
        "colab_type": "text",
        "id": "4aPbgI-c-Kj8"
      },
      "source": [
        "# **5. 모델 로드 및 평가**"
      ]
    },
    {
      "cell_type": "code",
      "metadata": {
        "colab_type": "code",
        "id": "y7WONVxH-Kt6",
        "colab": {
          "base_uri": "https://localhost:8080/",
          "height": 52
        },
        "outputId": "755562d5-5681-4f2b-8a65-a2993964cc46"
      },
      "source": [
        "save_path = '/content/'\n",
        "team_name = 'team05'\n",
        "\n",
        "model = keras.models.load_model(save_path + 'model_entire_' + team_name + '.h5')\n",
        "model.evaluate(x_test_after, y_test)"
      ],
      "execution_count": 175,
      "outputs": [
        {
          "output_type": "stream",
          "text": [
            "588/588 [==============================] - 2s 3ms/step - loss: 0.2679 - accuracy: 0.9049\n"
          ],
          "name": "stdout"
        },
        {
          "output_type": "execute_result",
          "data": {
            "text/plain": [
              "[0.2678838074207306, 0.9049468040466309]"
            ]
          },
          "metadata": {
            "tags": []
          },
          "execution_count": 175
        }
      ]
    }
  ]
}